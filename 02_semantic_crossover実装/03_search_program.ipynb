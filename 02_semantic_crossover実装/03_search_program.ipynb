{
 "cells": [
  {
   "cell_type": "code",
   "execution_count": 5,
   "metadata": {},
   "outputs": [],
   "source": [
    "from local.node import Node\n",
    "from local.constnode import ConstNode\n",
    "from local.varnode import VarNode\n",
    "from local.funcnode import FuncNode\n",
    "from local.func import *\n",
    "from local.treeoptimizer import TreeOptimizer\n",
    "from local.crossover import *\n",
    "from local.Optimizer import *\n",
    "\n",
    "import os\n",
    "import json\n",
    "import glob\n",
    "import copy\n",
    "import random\n",
    "import pickle\n",
    "import graphviz\n",
    "import datetime\n",
    "from PIL import Image\n",
    "from tqdm import tqdm\n",
    "import tensorflow as tf\n",
    "from tensorflow.keras import datasets, layers, models, losses, metrics, optimizers\n",
    "from keras.applications.vgg16 import VGG16, preprocess_input"
   ]
  },
  {
   "cell_type": "code",
   "execution_count": null,
   "metadata": {},
   "outputs": [],
   "source": [
    "def create_folder():\n",
    "    date = datetime.datetime.today()\n",
    "    folder_path = str(date.year)\n",
    "    if not os.path.exists(folder_path):\n",
    "        os.mkdir(folder_path)\n",
    "\n",
    "    folder_path += \"/\"+str(date.month) +\"_\"+str(date.day)\n",
    "    if not os.path.exists(folder_path):\n",
    "        os.mkdir(folder_path)\n",
    "\n",
    "    folder_path += \"/\"+str(date.hour)+\"_\"+str(date.minute)\n",
    "    if not os.path.exists(folder_path):\n",
    "        os.mkdir(folder_path)\n",
    "        \n",
    "    return folder_path\n",
    "\n",
    "\n",
    "def Tounament_select(score_list, generation, Selection_size):\n",
    "    candidate = random.sample(range(len(score_list)), Selection_size)\n",
    "    candidate_score = [score_list[i] for i in candidate]\n",
    "    index = candidate_score.index(max(candidate_score))\n",
    "    return copy.deepcopy(generation[candidate[index]])"
   ]
  },
  {
   "cell_type": "code",
   "execution_count": null,
   "metadata": {},
   "outputs": [],
   "source": [
    "Population = 50\n",
    "Max_generation = 500\n",
    "\n",
    "Mutation_rate = 0.2\n",
    "Crossover_rate = 0.8\n",
    "\n",
    "Selection_size = 2\n",
    "\n",
    "BATCH_SIZE = 512\n",
    "EPOCHS = 10\n",
    "\n",
    "loss_obj = metrics.Mean()\n",
    "accuracy_obj = metrics.SparseCategoricalAccuracy()\n",
    "val_loss_obj = metrics.SparseCategoricalCrossentropy()\n",
    "val_accuracy_obj = metrics.SparseCategoricalAccuracy()\n",
    "\n",
    "generation = []\n",
    "generation += [Momentum(learning_rate=0.01) for _ in range(Population // 2)]\n",
    "generation += [RMSProp() for _ in range(Population // 2)]\n",
    "\n",
    "best_optim = SGD()\n",
    "best_score = 0.0\n",
    "best_score_list = []\n",
    "past_progress = 0\n",
    "folder_path = create_folder()\n",
    "if not os.path.exists(folder_path+\"/best_optim/\"):\n",
    "    os.mkdir(folder_path+\"/best_optim/\")\n",
    "score_progress = []"
   ]
  },
  {
   "cell_type": "code",
   "execution_count": null,
   "metadata": {},
   "outputs": [],
   "source": [
    "def load_data():\n",
    "    (x_train, y_train), (x_test, y_test) = datasets.cifar10.load_data()\n",
    "    x_train, x_test = x_train[..., tf.newaxis] / 255.0, x_test[..., tf.newaxis] / 255.0\n",
    "\n",
    "    train_dataset = tf.data.Dataset.from_tensor_slices((x_train, y_train)).batch(BATCH_SIZE)\n",
    "    test_dataset = tf.data.Dataset.from_tensor_slices((x_test, y_test)).batch(BATCH_SIZE)\n",
    "\n",
    "    return train_dataset, test_dataset\n",
    "\n",
    "def build_model():\n",
    "    input = layers.Input(shape = (32, 32, 3))\n",
    "    x = layers.Conv2D(32, 3, 2)(input)\n",
    "    x = layers.LeakyReLU()(x)\n",
    "    x = layers.Flatten()(x)\n",
    "    x = layers.Dense(units = 128, activation = \"relu\")(x)\n",
    "    output = layers.Dense(units = 10, activation = \"softmax\")(x)\n",
    "\n",
    "    return models.Model(input, output)\n",
    "\n",
    "train_dataset, test_dataset = load_data()\n",
    "\n",
    "model = build_model()\n",
    "model.compile()\n",
    "if not os.path.exists(\"models/\"):\n",
    "    os.mkdir(\"models/\")\n",
    "if not os.path.exists(\"models/model_cifar.keras\"):\n",
    "    model.save_weights(\"models/model_cifar.keras\")"
   ]
  },
  {
   "cell_type": "code",
   "execution_count": null,
   "metadata": {},
   "outputs": [],
   "source": [
    "# best_score = 0.6003\n",
    "# folder_path = '2024/1_2/10_4'\n",
    "# read_folder_path = folder_path +f\"/generation{past_progress}\"\n",
    "# pickle_list = glob.glob(read_folder_path +\"/*.pickle\")\n",
    "# generation = []\n",
    "# for path in pickle_list:\n",
    "#     pickle_file = open(path, \"rb\")\n",
    "#     genetic = pickle.load(pickle_file)\n",
    "#     generation.append(genetic)"
   ]
  },
  {
   "cell_type": "code",
   "execution_count": null,
   "metadata": {},
   "outputs": [],
   "source": [
    "for progress in range(past_progress, Max_generation):\n",
    "    fitness_list = []\n",
    "    save_path = folder_path + f\"/generation{progress}/\"\n",
    "    if not os.path.exists(save_path):\n",
    "        os.mkdir(save_path)\n",
    "\n",
    "    for index in tqdm(range(len(generation))):\n",
    "\n",
    "        acc_list = []\n",
    "        optimizer = generation[index]\n",
    "        optimizer.model_params = list()\n",
    "        optimizer.grads_params = list()\n",
    "        model.load_weights(\"models/model_cifar.keras\")\n",
    "        penalty = 1e-5 * len(optimizer.make_struct_dict().keys())\n",
    "\n",
    "        @tf.function\n",
    "        def train_step(X, Y):\n",
    "            with tf.GradientTape() as tape:\n",
    "                pred = model(X)\n",
    "                loss = losses.SparseCategoricalCrossentropy()(Y, pred)\n",
    "            gradients = tape.gradient(loss, model.trainable_variables)\n",
    "            optimizer.apply_gradients(zip(gradients, model.trainable_variables))\n",
    "            \n",
    "            loss_obj(loss)\n",
    "            accuracy_obj(Y, pred)\n",
    "        \n",
    "            return gradients\n",
    "        \n",
    "        @tf.function\n",
    "        def test_step(X, Y):\n",
    "            pred = model(X)\n",
    "            \n",
    "            val_loss_obj(Y, pred)\n",
    "            val_accuracy_obj(Y, pred)\n",
    "\n",
    "        for i in range(EPOCHS):\n",
    "            \n",
    "            loss_obj.reset_state()\n",
    "            accuracy_obj.reset_state()\n",
    "            val_loss_obj.reset_state()\n",
    "            val_accuracy_obj.reset_state()\n",
    "            gradients = 0\n",
    "            for X, Y in train_dataset:\n",
    "                gradients = train_step(X, Y)\n",
    "            \n",
    "            optimizer.model_params.append(copy.deepcopy(model.trainable_variables))\n",
    "            optimizer.grads_params.append(copy.deepcopy(gradients))\n",
    "            \n",
    "            for X, Y in test_dataset:\n",
    "                test_step(X, Y)\n",
    "        \n",
    "            acc_list.append(val_accuracy_obj.result().numpy())\n",
    "        fitness_list.append(max(acc_list))\n",
    "        # 画像保存に時間がかかったのでコメントアウトしてます\n",
    "        # optimizer.plot_struct(f\"{save_path}/optimizer_{index}_{max(acc_list)}\")\n",
    "        pickle_file = open(f\"{save_path}/optimizer_{index}_{max(acc_list)}.pickle\", mode= \"wb\")\n",
    "        pickle.dump(optimizer, pickle_file)\n",
    "        pickle_file.close()\n",
    "\n",
    "\n",
    "    for index in range(len(fitness_list)):\n",
    "        if fitness_list[index] > best_score:\n",
    "            best_score = fitness_list[index]\n",
    "            best_optim = copy.deepcopy(generation[index])\n",
    "\n",
    "            best_optim.plot_struct(f\"{folder_path}/best_optim/generation_{progress}_{index}_{best_score}\")\n",
    "            pickle_file = open(f\"{folder_path}/best_optim/generation_{progress}_{index}_{best_score}.pickle\", mode= \"wb\")\n",
    "            pickle.dump(best_optim, pickle_file)\n",
    "            pickle_file.close()\n",
    "    \n",
    "    best_score_list.append(best_score)\n",
    "    print(best_score)\n",
    "    json_file = open(f\"{folder_path}/best_optim/score{progress}.json\", \"w\")\n",
    "    json.dump(str(best_score), json_file)\n",
    "    json_file.close()\n",
    "\n",
    "    next_generation = []\n",
    "\n",
    "    # while len(next_generation) < Population:\n",
    "    #     parent1 = Tounament_select(fitness_list, generation, Selection_size)\n",
    "    #     parent2 = Tounament_select(fitness_list, generation, Selection_size)\n",
    "\n",
    "    #     if random.random() < Crossover_rate:\n",
    "    #         parent1, parent2 = semantic_crossover(parent1, parent2, progress, Max_generation)\n",
    "        \n",
    "    #     next_generation.append(parent1)\n",
    "    #     next_generation.append(parent2)\n",
    "    next_generation = copy.deepcopy(generation)\n",
    "    for index, genetic in enumerate(next_generation):\n",
    "        if random.random() < Mutation_rate:\n",
    "            genetic.mutate()\n",
    "\n",
    "    next_generation.append(copy.deepcopy(best_optim))\n",
    "    next_generation.append(Momentum())\n",
    "    next_generation.append(RMSProp())\n",
    "    \n",
    "    generation = next_generation[len(next_generation) - Population:]\n",
    "\n",
    "    # pickleファイルが思ったより容量大きかったので、現世代の評価と進化が終わったら、ひとつ前の世代のpickleファイルを削除\n",
    "    check_path = folder_path + f\"/generation{progress -1}\"\n",
    "    pickle_list = glob.glob(check_path +\"/*.pickle\")\n",
    "    for path in pickle_list:\n",
    "        os.remove(path)\n",
    "\n",
    "    past_progress = progress"
   ]
  },
  {
   "cell_type": "code",
   "execution_count": null,
   "metadata": {},
   "outputs": [],
   "source": []
  },
  {
   "cell_type": "code",
   "execution_count": 6,
   "metadata": {},
   "outputs": [],
   "source": [
    "best_optim = pickle.load(open(\"./2024/1_2/10_4/best_optim/generation_371_47_0.6003000140190125.pickle\", \"rb\"))\n",
    "\n",
    "BATCH_SIZE = 512\n",
    "def load_data_cifar10():\n",
    "    (x_train, y_train), (x_test, y_test) = datasets.cifar10.load_data()\n",
    "    x_train, x_test = x_train[..., tf.newaxis] / 255.0, x_test[..., tf.newaxis] / 255.0\n",
    "\n",
    "    train_dataset = tf.data.Dataset.from_tensor_slices((x_train, y_train)).batch(BATCH_SIZE)\n",
    "    test_dataset = tf.data.Dataset.from_tensor_slices((x_test, y_test)).batch(BATCH_SIZE)\n",
    "\n",
    "    return train_dataset, test_dataset\n",
    "\n",
    "def load_data_cifar100():\n",
    "    (x_train, y_train), (x_test, y_test) = datasets.cifar100.load_data()\n",
    "    x_train, x_test = x_train[..., tf.newaxis] / 255.0, x_test[..., tf.newaxis] / 255.0\n",
    "\n",
    "    train_dataset = tf.data.Dataset.from_tensor_slices((x_train, y_train)).batch(BATCH_SIZE)\n",
    "    test_dataset = tf.data.Dataset.from_tensor_slices((x_test, y_test)).batch(BATCH_SIZE)\n",
    "\n",
    "    return train_dataset, test_dataset\n",
    "\n",
    "def load_data_mnist():\n",
    "    (x_train, y_train), (x_test, y_test) = datasets.mnist.load_data()\n",
    "    x_train, x_test = x_train[..., tf.newaxis] / 255.0, x_test[..., tf.newaxis] / 255.0\n",
    "\n",
    "    train_dataset = tf.data.Dataset.from_tensor_slices((x_train, y_train)).batch(BATCH_SIZE)\n",
    "    test_dataset = tf.data.Dataset.from_tensor_slices((x_test, y_test)).batch(BATCH_SIZE)\n",
    "\n",
    "    return train_dataset, test_dataset\n",
    "\n",
    "def build_model_cifar():\n",
    "    input = layers.Input(shape = (32, 32, 3))\n",
    "    x = layers.Conv2D(32, 3, 2)(input)\n",
    "    x = layers.LeakyReLU()(x)\n",
    "    x = layers.Flatten()(x)\n",
    "    x = layers.Dense(units = 128, activation = \"relu\")(x)\n",
    "    output = layers.Dense(units = 10, activation = \"softmax\")(x)\n",
    "\n",
    "    return models.Model(input, output)\n",
    "\n",
    "def build_model_cifar100():\n",
    "    input = layers.Input(shape = (32, 32, 3))\n",
    "    x = layers.Conv2D(32, 3, 2, \"same\")(input)\n",
    "    x = layers.LeakyReLU()(x)\n",
    "    x = layers.Conv2D(64, 3, 2, \"same\")(input)\n",
    "    x = layers.LeakyReLU()(x)\n",
    "    x = layers.Flatten()(x)\n",
    "    x = layers.Dense(units = 128, activation = \"relu\")(x)\n",
    "    x = layers.Dense(units = 256, activation = \"relu\")(x)\n",
    "    output = layers.Dense(units = 100, activation = \"softmax\")(x)\n",
    "\n",
    "    return models.Model(input, output)\n",
    "    return model\n",
    "\n",
    "def build_model_mnist():\n",
    "    input = layers.Input(shape = (28, 28, 1))\n",
    "    x = layers.Conv2D(32, 3, 2)(input)\n",
    "    x = layers.LeakyReLU()(x)\n",
    "    x = layers.Flatten()(x)\n",
    "    x = layers.Dense(units = 128, activation = \"relu\")(x)\n",
    "    output = layers.Dense(units = 10, activation = \"softmax\")(x)\n",
    "\n",
    "    return models.Model(input, output)\n",
    "\n",
    "\n",
    "loss_obj = metrics.Mean()\n",
    "accuracy_obj = metrics.SparseCategoricalAccuracy()\n",
    "val_loss_obj = metrics.SparseCategoricalCrossentropy()\n",
    "val_accuracy_obj = metrics.SparseCategoricalAccuracy()"
   ]
  },
  {
   "cell_type": "code",
   "execution_count": 15,
   "metadata": {},
   "outputs": [
    {
     "name": "stdout",
     "output_type": "stream",
     "text": [
      "Momentum 1\n"
     ]
    },
    {
     "name": "stderr",
     "output_type": "stream",
     "text": [
      "100%|██████████| 100/100 [03:08<00:00,  1.88s/it]\n"
     ]
    },
    {
     "name": "stdout",
     "output_type": "stream",
     "text": [
      "RMSProp 1\n"
     ]
    },
    {
     "name": "stderr",
     "output_type": "stream",
     "text": [
      "100%|██████████| 100/100 [03:14<00:00,  1.95s/it]\n"
     ]
    },
    {
     "name": "stdout",
     "output_type": "stream",
     "text": [
      "Adam 1\n"
     ]
    },
    {
     "name": "stderr",
     "output_type": "stream",
     "text": [
      "100%|██████████| 100/100 [03:12<00:00,  1.92s/it]\n"
     ]
    },
    {
     "name": "stdout",
     "output_type": "stream",
     "text": [
      "best_optim 1\n"
     ]
    },
    {
     "name": "stderr",
     "output_type": "stream",
     "text": [
      "100%|██████████| 100/100 [03:26<00:00,  2.07s/it]\n"
     ]
    },
    {
     "name": "stdout",
     "output_type": "stream",
     "text": [
      "Momentum 2\n"
     ]
    },
    {
     "name": "stderr",
     "output_type": "stream",
     "text": [
      "100%|██████████| 100/100 [03:01<00:00,  1.82s/it]\n"
     ]
    },
    {
     "name": "stdout",
     "output_type": "stream",
     "text": [
      "RMSProp 2\n"
     ]
    },
    {
     "name": "stderr",
     "output_type": "stream",
     "text": [
      "100%|██████████| 100/100 [03:06<00:00,  1.86s/it]\n"
     ]
    },
    {
     "name": "stdout",
     "output_type": "stream",
     "text": [
      "Adam 2\n"
     ]
    },
    {
     "name": "stderr",
     "output_type": "stream",
     "text": [
      "100%|██████████| 100/100 [03:00<00:00,  1.81s/it]\n"
     ]
    },
    {
     "name": "stdout",
     "output_type": "stream",
     "text": [
      "best_optim 2\n"
     ]
    },
    {
     "name": "stderr",
     "output_type": "stream",
     "text": [
      "100%|██████████| 100/100 [03:21<00:00,  2.01s/it]\n"
     ]
    },
    {
     "name": "stdout",
     "output_type": "stream",
     "text": [
      "Momentum 3\n"
     ]
    },
    {
     "name": "stderr",
     "output_type": "stream",
     "text": [
      "100%|██████████| 100/100 [02:59<00:00,  1.80s/it]\n"
     ]
    },
    {
     "name": "stdout",
     "output_type": "stream",
     "text": [
      "RMSProp 3\n"
     ]
    },
    {
     "name": "stderr",
     "output_type": "stream",
     "text": [
      "100%|██████████| 100/100 [03:10<00:00,  1.91s/it]\n"
     ]
    },
    {
     "name": "stdout",
     "output_type": "stream",
     "text": [
      "Adam 3\n"
     ]
    },
    {
     "name": "stderr",
     "output_type": "stream",
     "text": [
      "100%|██████████| 100/100 [03:00<00:00,  1.80s/it]\n"
     ]
    },
    {
     "name": "stdout",
     "output_type": "stream",
     "text": [
      "best_optim 3\n"
     ]
    },
    {
     "name": "stderr",
     "output_type": "stream",
     "text": [
      "100%|██████████| 100/100 [03:20<00:00,  2.01s/it]\n"
     ]
    },
    {
     "name": "stdout",
     "output_type": "stream",
     "text": [
      "Momentum 4\n"
     ]
    },
    {
     "name": "stderr",
     "output_type": "stream",
     "text": [
      "100%|██████████| 100/100 [03:01<00:00,  1.82s/it]\n"
     ]
    },
    {
     "name": "stdout",
     "output_type": "stream",
     "text": [
      "RMSProp 4\n"
     ]
    },
    {
     "name": "stderr",
     "output_type": "stream",
     "text": [
      "100%|██████████| 100/100 [03:06<00:00,  1.87s/it]\n"
     ]
    },
    {
     "name": "stdout",
     "output_type": "stream",
     "text": [
      "Adam 4\n"
     ]
    },
    {
     "name": "stderr",
     "output_type": "stream",
     "text": [
      "100%|██████████| 100/100 [03:00<00:00,  1.81s/it]\n"
     ]
    },
    {
     "name": "stdout",
     "output_type": "stream",
     "text": [
      "best_optim 4\n"
     ]
    },
    {
     "name": "stderr",
     "output_type": "stream",
     "text": [
      "100%|██████████| 100/100 [03:21<00:00,  2.02s/it]\n"
     ]
    },
    {
     "name": "stdout",
     "output_type": "stream",
     "text": [
      "Momentum 5\n"
     ]
    },
    {
     "name": "stderr",
     "output_type": "stream",
     "text": [
      "100%|██████████| 100/100 [02:59<00:00,  1.80s/it]\n"
     ]
    },
    {
     "name": "stdout",
     "output_type": "stream",
     "text": [
      "RMSProp 5\n"
     ]
    },
    {
     "name": "stderr",
     "output_type": "stream",
     "text": [
      "100%|██████████| 100/100 [03:07<00:00,  1.88s/it]\n"
     ]
    },
    {
     "name": "stdout",
     "output_type": "stream",
     "text": [
      "Adam 5\n"
     ]
    },
    {
     "name": "stderr",
     "output_type": "stream",
     "text": [
      "100%|██████████| 100/100 [03:00<00:00,  1.81s/it]\n"
     ]
    },
    {
     "name": "stdout",
     "output_type": "stream",
     "text": [
      "best_optim 5\n"
     ]
    },
    {
     "name": "stderr",
     "output_type": "stream",
     "text": [
      "100%|██████████| 100/100 [03:20<00:00,  2.01s/it]\n"
     ]
    },
    {
     "name": "stdout",
     "output_type": "stream",
     "text": [
      "Momentum 6\n"
     ]
    },
    {
     "name": "stderr",
     "output_type": "stream",
     "text": [
      "100%|██████████| 100/100 [03:00<00:00,  1.81s/it]\n"
     ]
    },
    {
     "name": "stdout",
     "output_type": "stream",
     "text": [
      "RMSProp 6\n"
     ]
    },
    {
     "name": "stderr",
     "output_type": "stream",
     "text": [
      "100%|██████████| 100/100 [03:06<00:00,  1.87s/it]\n"
     ]
    },
    {
     "name": "stdout",
     "output_type": "stream",
     "text": [
      "Adam 6\n"
     ]
    },
    {
     "name": "stderr",
     "output_type": "stream",
     "text": [
      "100%|██████████| 100/100 [03:00<00:00,  1.81s/it]\n"
     ]
    },
    {
     "name": "stdout",
     "output_type": "stream",
     "text": [
      "best_optim 6\n"
     ]
    },
    {
     "name": "stderr",
     "output_type": "stream",
     "text": [
      "100%|██████████| 100/100 [03:21<00:00,  2.02s/it]\n"
     ]
    },
    {
     "name": "stdout",
     "output_type": "stream",
     "text": [
      "Momentum 7\n"
     ]
    },
    {
     "name": "stderr",
     "output_type": "stream",
     "text": [
      "100%|██████████| 100/100 [03:00<00:00,  1.80s/it]\n"
     ]
    },
    {
     "name": "stdout",
     "output_type": "stream",
     "text": [
      "RMSProp 7\n"
     ]
    },
    {
     "name": "stderr",
     "output_type": "stream",
     "text": [
      "100%|██████████| 100/100 [03:07<00:00,  1.88s/it]\n"
     ]
    },
    {
     "name": "stdout",
     "output_type": "stream",
     "text": [
      "Adam 7\n"
     ]
    },
    {
     "name": "stderr",
     "output_type": "stream",
     "text": [
      "100%|██████████| 100/100 [03:00<00:00,  1.81s/it]\n"
     ]
    },
    {
     "name": "stdout",
     "output_type": "stream",
     "text": [
      "best_optim 7\n"
     ]
    },
    {
     "name": "stderr",
     "output_type": "stream",
     "text": [
      "100%|██████████| 100/100 [03:20<00:00,  2.00s/it]\n"
     ]
    },
    {
     "name": "stdout",
     "output_type": "stream",
     "text": [
      "Momentum 8\n"
     ]
    },
    {
     "name": "stderr",
     "output_type": "stream",
     "text": [
      "100%|██████████| 100/100 [03:00<00:00,  1.81s/it]\n"
     ]
    },
    {
     "name": "stdout",
     "output_type": "stream",
     "text": [
      "RMSProp 8\n"
     ]
    },
    {
     "name": "stderr",
     "output_type": "stream",
     "text": [
      "100%|██████████| 100/100 [03:08<00:00,  1.88s/it]\n"
     ]
    },
    {
     "name": "stdout",
     "output_type": "stream",
     "text": [
      "Adam 8\n"
     ]
    },
    {
     "name": "stderr",
     "output_type": "stream",
     "text": [
      "100%|██████████| 100/100 [03:00<00:00,  1.80s/it]\n"
     ]
    },
    {
     "name": "stdout",
     "output_type": "stream",
     "text": [
      "best_optim 8\n"
     ]
    },
    {
     "name": "stderr",
     "output_type": "stream",
     "text": [
      "100%|██████████| 100/100 [03:20<00:00,  2.00s/it]\n"
     ]
    },
    {
     "name": "stdout",
     "output_type": "stream",
     "text": [
      "Momentum 9\n"
     ]
    },
    {
     "name": "stderr",
     "output_type": "stream",
     "text": [
      "100%|██████████| 100/100 [03:00<00:00,  1.80s/it]\n"
     ]
    },
    {
     "name": "stdout",
     "output_type": "stream",
     "text": [
      "RMSProp 9\n"
     ]
    },
    {
     "name": "stderr",
     "output_type": "stream",
     "text": [
      "100%|██████████| 100/100 [03:06<00:00,  1.87s/it]\n"
     ]
    },
    {
     "name": "stdout",
     "output_type": "stream",
     "text": [
      "Adam 9\n"
     ]
    },
    {
     "name": "stderr",
     "output_type": "stream",
     "text": [
      "100%|██████████| 100/100 [03:00<00:00,  1.81s/it]\n"
     ]
    },
    {
     "name": "stdout",
     "output_type": "stream",
     "text": [
      "best_optim 9\n"
     ]
    },
    {
     "name": "stderr",
     "output_type": "stream",
     "text": [
      "100%|██████████| 100/100 [03:19<00:00,  2.00s/it]\n"
     ]
    },
    {
     "name": "stdout",
     "output_type": "stream",
     "text": [
      "Momentum 10\n"
     ]
    },
    {
     "name": "stderr",
     "output_type": "stream",
     "text": [
      "100%|██████████| 100/100 [03:01<00:00,  1.81s/it]\n"
     ]
    },
    {
     "name": "stdout",
     "output_type": "stream",
     "text": [
      "RMSProp 10\n"
     ]
    },
    {
     "name": "stderr",
     "output_type": "stream",
     "text": [
      "100%|██████████| 100/100 [03:06<00:00,  1.87s/it]\n"
     ]
    },
    {
     "name": "stdout",
     "output_type": "stream",
     "text": [
      "Adam 10\n"
     ]
    },
    {
     "name": "stderr",
     "output_type": "stream",
     "text": [
      "100%|██████████| 100/100 [03:00<00:00,  1.80s/it]\n"
     ]
    },
    {
     "name": "stdout",
     "output_type": "stream",
     "text": [
      "best_optim 10\n"
     ]
    },
    {
     "name": "stderr",
     "output_type": "stream",
     "text": [
      "100%|██████████| 100/100 [03:20<00:00,  2.01s/it]\n"
     ]
    }
   ],
   "source": [
    "train_dataset, test_dataset = load_data_cifar100()\n",
    "\n",
    "# VGG16のモデルと重みをインポート\n",
    "input_tensor = layers.Input(shape=(32, 32, 3))\n",
    "vgg16_model = VGG16(\n",
    "    include_top=False, #全結合層を除外\n",
    "    weights='imagenet',\n",
    "    input_tensor=input_tensor\n",
    "    )\n",
    "\n",
    "# 重みを固定\n",
    "for layer in vgg16_model.layers:\n",
    "  layer.trainable = False\n",
    "  \n",
    "@tf.function\n",
    "def train_step(X, Y):\n",
    "    with tf.GradientTape() as tape:\n",
    "        pred = model(X)\n",
    "        loss = losses.SparseCategoricalCrossentropy()(Y, pred)\n",
    "    gradients = tape.gradient(loss, model.trainable_variables)\n",
    "    optimizer.apply_gradients(zip(gradients, model.trainable_variables))\n",
    "\n",
    "    loss_obj(loss)\n",
    "    accuracy_obj(Y, pred)\n",
    "\n",
    "\n",
    "@tf.function\n",
    "def test_step(X, Y):\n",
    "    pred = model(X)\n",
    "\n",
    "    val_loss_obj(Y, pred)\n",
    "    val_accuracy_obj(Y, pred)\n",
    "\n",
    "best_optim.initialize_state()\n",
    "optimizers_list = [optimizers.legacy.SGD(momentum=0.9), optimizers.legacy.RMSprop(), optimizers.legacy.Adam(), best_optim]\n",
    "label_list = [\"Momentum\", \"RMSProp\", \"Adam\", \"best_optim\"]\n",
    "Accuracy_list = list()\n",
    "\n",
    "EPOCHS = 100\n",
    "try_num = 10\n",
    "for i in range(try_num):\n",
    "    # 全結合層の構築\n",
    "    x = vgg16_model.output\n",
    "    x = layers.GlobalAveragePooling2D()(x)\n",
    "    x = layers.Dense(1024, activation='relu')(x)\n",
    "    predictions = layers.Dense(100, activation=\"softmax\")(x)\n",
    "\n",
    "    # VGG16と構築した全結合層を結合\n",
    "    model = models.Model(inputs=vgg16_model.input, outputs=predictions)\n",
    "    model.save_weights(f\"models/model_vgg16_cifar100_{try_num}.keras\")\n",
    "    for optimizer, label in zip(optimizers_list, label_list):\n",
    "        past = len(glob.glob(f\"./save_scores_json//cifar100_{label}_try_loss_num*\")) + 1\n",
    "        print(label, past)\n",
    "        if past > try_num:\n",
    "            continue\n",
    "        accs = list()\n",
    "        loss_list = list()\n",
    "        model = models.Model(inputs=vgg16_model.input, outputs=predictions)\n",
    "        model.load_weights(f\"models/model_vgg16_cifar100_{try_num}.keras\")\n",
    "        @tf.function\n",
    "        def train_step(X, Y):\n",
    "            with tf.GradientTape() as tape:\n",
    "                pred = model(X)\n",
    "                loss = losses.SparseCategoricalCrossentropy()(Y, pred)\n",
    "            gradients = tape.gradient(loss, model.trainable_variables)\n",
    "            optimizer.apply_gradients(zip(gradients, model.trainable_variables))\n",
    "\n",
    "            loss_obj(loss)\n",
    "            accuracy_obj(Y, pred)\n",
    "\n",
    "\n",
    "        @tf.function\n",
    "        def test_step(X, Y):\n",
    "            pred = model(X)\n",
    "\n",
    "            val_loss_obj(Y, pred)\n",
    "            val_accuracy_obj(Y, pred)\n",
    "        for i in tqdm(range(EPOCHS)):\n",
    "\n",
    "            loss_obj.reset_state()\n",
    "            accuracy_obj.reset_state()\n",
    "            val_loss_obj.reset_state()\n",
    "            val_accuracy_obj.reset_state()\n",
    "\n",
    "            for X, Y in test_dataset:\n",
    "                test_step(X, Y)\n",
    "\n",
    "            for X, Y in train_dataset:\n",
    "                train_step(X, Y)\n",
    "\n",
    "            accs.append(val_accuracy_obj.result().numpy())\n",
    "            loss_list.append(val_loss_obj.result().numpy())\n",
    "\n",
    "        json_file = open(f\"./save_scores_json/cifar100_{label}_try_loss_num{past}.json\", \"w\")\n",
    "        json.dump(str(loss_list), json_file)\n",
    "        json_file.close()\n"
   ]
  },
  {
   "cell_type": "code",
   "execution_count": 19,
   "metadata": {},
   "outputs": [
    {
     "name": "stdout",
     "output_type": "stream",
     "text": [
      "Momentum 2.4777878799999997\n",
      "RMSprop 2.5295569199999997\n",
      "Adam 2.48659722\n",
      "Ours 2.5154504999999996\n"
     ]
    },
    {
     "data": {
      "image/png": "[encoded data removed]",
      "text/plain": [
       "<Figure size 640x480 with 1 Axes>"
      ]
     },
     "metadata": {},
     "output_type": "display_data"
    }
   ],
   "source": [
    "import matplotlib.pyplot as plt\n",
    "import numpy as np\n",
    "label_list = [\"Momentum\", \"RMSProp\", \"Adam\", \"best_optim\"]\n",
    "Accuracy_dist = {}\n",
    "score = 0.0\n",
    "for label in label_list:\n",
    "    paths = glob.glob(f\"./save_scores_json//cifar100_{label}_try_loss_num*.json\")\n",
    "    accs = 0\n",
    "    for path in paths:\n",
    "        json_file = open(path)\n",
    "        content = json.load(json_file)\n",
    "        json_file.close()\n",
    "        content = content.split(\"[\")[-1].split(\"]\")[0].split(\",\")\n",
    "        tmp = [float(c) for c in content]\n",
    "        accs = np.add(accs, tmp)\n",
    "        if score < max(tmp):\n",
    "            score = max(tmp)\n",
    "    # print(label, score)\n",
    "    Accuracy_dist[label] = np.divide(accs, len(paths))\n",
    "\n",
    "labels = [\"Momentum\", \"RMSprop\", \"Adam\", \"Ours\"]\n",
    "line_type = [\"dotted\", \"dashdot\", \"dashed\", \"solid\"]\n",
    "fig, ax = plt.subplots()\n",
    "lim = 50\n",
    "for accs, label, line in zip(Accuracy_dist.values(),labels, line_type):\n",
    "    # x = np.array(range(len(accs)))\n",
    "    x = np.array(range(lim))\n",
    "    print(label, min(accs))\n",
    "    # ax.plot(x, accs[:lim], linestyle = line, label = label)\n",
    "    ax.plot(x, accs[:lim], label = label)\n",
    "\n",
    "ax.set_xlabel( \"Epochs\")\n",
    "ax.set_ylabel(\"Val_Accuracy\")\n",
    "# ax.set_ylim(0, 0.4)\n",
    "plt.legend()\n",
    "plt.savefig(\"cifar100_vgg16_defalt.png\")\n",
    "plt.show()\n"
   ]
  },
  {
   "cell_type": "code",
   "execution_count": null,
   "metadata": {},
   "outputs": [],
   "source": []
  }
 ],
 "metadata": {
  "kernelspec": {
   "display_name": "tf210_taro_clone2",
   "language": "python",
   "name": "python3"
  },
  "language_info": {
   "codemirror_mode": {
    "name": "ipython",
    "version": 3
   },
   "file_extension": ".py",
   "mimetype": "text/x-python",
   "name": "python",
   "nbconvert_exporter": "python",
   "pygments_lexer": "ipython3",
   "version": "3.9.16"
  }
 },
 "nbformat": 4,
 "nbformat_minor": 2
}
