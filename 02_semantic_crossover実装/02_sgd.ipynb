{
 "cells": [
  {
   "cell_type": "code",
   "execution_count": 1,
   "metadata": {},
   "outputs": [],
   "source": [
    "from local.node import Node\n",
    "from local.constnode import ConstNode\n",
    "from local.varnode import VarNode\n",
    "from local.funcnode import FuncNode\n",
    "from local.func import *\n",
    "from local.treeoptimizer import TreeOptimizer\n",
    "from local.crossover import *\n",
    "from local.Optimizer import *\n",
    "\n",
    "import os\n",
    "import copy\n",
    "import random\n",
    "import pickle\n",
    "import graphviz\n",
    "import datetime\n",
    "from PIL import Image\n",
    "from tqdm import tqdm\n",
    "import tensorflow as tf\n",
    "from tensorflow.keras import datasets, layers, models, losses, metrics, optimizers"
   ]
  },
  {
   "cell_type": "code",
   "execution_count": 2,
   "metadata": {},
   "outputs": [],
   "source": [
    "\n",
    "BATCH_SIZE = 512\n",
    "EPOCHS = 10\n",
    "def load_data():\n",
    "    (x_train, y_train), (x_test, y_test) = datasets.cifar10.load_data()\n",
    "    x_train, x_test = x_train[..., tf.newaxis] / 255.0, x_test[..., tf.newaxis] / 255.0\n",
    "\n",
    "    train_dataset = tf.data.Dataset.from_tensor_slices((x_train, y_train)).batch(BATCH_SIZE)\n",
    "    test_dataset = tf.data.Dataset.from_tensor_slices((x_test, y_test)).batch(BATCH_SIZE)\n",
    "\n",
    "    return train_dataset, test_dataset\n",
    "\n",
    "def build_model():\n",
    "    input = layers.Input(shape = (32, 32, 3))\n",
    "    x = layers.Conv2D(32, 3, 2)(input)\n",
    "    x = layers.LeakyReLU()(x)\n",
    "    x = layers.Flatten()(x)\n",
    "    x = layers.Dense(units = 32, activation = \"relu\")(x)\n",
    "    output = layers.Dense(units = 10, activation = \"softmax\")(x)\n",
    "\n",
    "    return models.Model(input, output)\n",
    "\n",
    "train_dataset, test_dataset = load_data()\n",
    "\n",
    "model = build_model()\n",
    "model.save_weights(\"model.keras\")"
   ]
  },
  {
   "cell_type": "code",
   "execution_count": 3,
   "metadata": {},
   "outputs": [
    {
     "name": "stderr",
     "output_type": "stream",
     "text": [
      "  0%|          | 0/98 [00:00<?, ?it/s]"
     ]
    },
    {
     "name": "stderr",
     "output_type": "stream",
     "text": [
      "100%|██████████| 98/98 [00:03<00:00, 28.70it/s]\n",
      "100%|██████████| 20/20 [00:00<00:00, 76.92it/s]\n"
     ]
    },
    {
     "name": "stdout",
     "output_type": "stream",
     "text": [
      "epoch : 0, loss : 2.2521066665649414, accuracy : 0.1774200052022934\n",
      "val_loss : 2.1959075927734375, val_accuracy : 0.22059999406337738\n"
     ]
    },
    {
     "name": "stderr",
     "output_type": "stream",
     "text": [
      "100%|██████████| 98/98 [00:00<00:00, 183.66it/s]\n",
      "100%|██████████| 20/20 [00:00<00:00, 185.19it/s]\n"
     ]
    },
    {
     "name": "stdout",
     "output_type": "stream",
     "text": [
      "epoch : 1, loss : 2.1407902240753174, accuracy : 0.2400600016117096\n",
      "val_loss : 2.083075523376465, val_accuracy : 0.2547999918460846\n"
     ]
    },
    {
     "name": "stderr",
     "output_type": "stream",
     "text": [
      "100%|██████████| 98/98 [00:00<00:00, 169.34it/s]\n",
      "100%|██████████| 20/20 [00:00<00:00, 176.68it/s]\n"
     ]
    },
    {
     "name": "stdout",
     "output_type": "stream",
     "text": [
      "epoch : 2, loss : 2.0321643352508545, accuracy : 0.282039999961853\n",
      "val_loss : 1.987348198890686, val_accuracy : 0.29429998993873596\n"
     ]
    },
    {
     "name": "stderr",
     "output_type": "stream",
     "text": [
      "100%|██████████| 98/98 [00:00<00:00, 171.93it/s]\n",
      "100%|██████████| 20/20 [00:00<00:00, 168.07it/s]\n"
     ]
    },
    {
     "name": "stdout",
     "output_type": "stream",
     "text": [
      "epoch : 3, loss : 1.9535108804702759, accuracy : 0.31643998622894287\n",
      "val_loss : 1.9263368844985962, val_accuracy : 0.3230000138282776\n"
     ]
    },
    {
     "name": "stderr",
     "output_type": "stream",
     "text": [
      "100%|██████████| 98/98 [00:00<00:00, 164.40it/s]\n",
      "100%|██████████| 20/20 [00:00<00:00, 166.67it/s]\n"
     ]
    },
    {
     "name": "stdout",
     "output_type": "stream",
     "text": [
      "epoch : 4, loss : 1.904070496559143, accuracy : 0.33744001388549805\n",
      "val_loss : 1.887445330619812, val_accuracy : 0.3379000127315521\n"
     ]
    },
    {
     "name": "stderr",
     "output_type": "stream",
     "text": [
      "100%|██████████| 98/98 [00:00<00:00, 170.14it/s]\n",
      "100%|██████████| 20/20 [00:00<00:00, 176.99it/s]\n"
     ]
    },
    {
     "name": "stdout",
     "output_type": "stream",
     "text": [
      "epoch : 5, loss : 1.8715739250183105, accuracy : 0.34922000765800476\n",
      "val_loss : 1.8592489957809448, val_accuracy : 0.34950000047683716\n"
     ]
    },
    {
     "name": "stderr",
     "output_type": "stream",
     "text": [
      "100%|██████████| 98/98 [00:00<00:00, 165.96it/s]\n",
      "100%|██████████| 20/20 [00:00<00:00, 156.25it/s]\n"
     ]
    },
    {
     "name": "stdout",
     "output_type": "stream",
     "text": [
      "epoch : 6, loss : 1.84767746925354, accuracy : 0.35712000727653503\n",
      "val_loss : 1.8372588157653809, val_accuracy : 0.3564999997615814\n"
     ]
    },
    {
     "name": "stderr",
     "output_type": "stream",
     "text": [
      "100%|██████████| 98/98 [00:00<00:00, 166.47it/s]\n",
      "100%|██████████| 20/20 [00:00<00:00, 160.00it/s]\n"
     ]
    },
    {
     "name": "stdout",
     "output_type": "stream",
     "text": [
      "epoch : 7, loss : 1.828418493270874, accuracy : 0.36410000920295715\n",
      "val_loss : 1.819519281387329, val_accuracy : 0.36169999837875366\n"
     ]
    },
    {
     "name": "stderr",
     "output_type": "stream",
     "text": [
      "100%|██████████| 98/98 [00:00<00:00, 169.84it/s]\n",
      "100%|██████████| 20/20 [00:00<00:00, 176.99it/s]\n"
     ]
    },
    {
     "name": "stdout",
     "output_type": "stream",
     "text": [
      "epoch : 8, loss : 1.812040090560913, accuracy : 0.37022000551223755\n",
      "val_loss : 1.8037052154541016, val_accuracy : 0.3686000108718872\n"
     ]
    },
    {
     "name": "stderr",
     "output_type": "stream",
     "text": [
      "100%|██████████| 98/98 [00:00<00:00, 170.25it/s]\n",
      "100%|██████████| 20/20 [00:00<00:00, 175.40it/s]"
     ]
    },
    {
     "name": "stdout",
     "output_type": "stream",
     "text": [
      "epoch : 9, loss : 1.7973476648330688, accuracy : 0.37619999051094055\n",
      "val_loss : 1.789642333984375, val_accuracy : 0.37470000982284546\n"
     ]
    },
    {
     "name": "stderr",
     "output_type": "stream",
     "text": [
      "\n"
     ]
    }
   ],
   "source": [
    "# tensorflow\n",
    "optimizer = optimizers.SGD(learning_rate = 0.001, momentum=0.9)\n",
    "\n",
    "model.load_weights(\"model.keras\")\n",
    "\n",
    "loss_obj = metrics.Mean()\n",
    "accuracy_obj = metrics.SparseCategoricalAccuracy()\n",
    "val_loss_obj = metrics.SparseCategoricalCrossentropy()\n",
    "val_accuracy_obj = metrics.SparseCategoricalAccuracy()\n",
    "\n",
    "@tf.function\n",
    "def train_step(X, Y):\n",
    "    with tf.GradientTape() as tape:\n",
    "        pred = model(X)\n",
    "        loss = losses.SparseCategoricalCrossentropy()(Y, pred)\n",
    "    gradients = tape.gradient(loss, model.trainable_variables)\n",
    "    optimizer.apply_gradients(zip(gradients, model.trainable_variables))\n",
    "\n",
    "    loss_obj(loss)\n",
    "    accuracy_obj(Y, pred)\n",
    "\n",
    "@tf.function\n",
    "def test_step(X, Y):\n",
    "    pred = model(X)\n",
    "    \n",
    "    val_loss_obj(Y, pred)\n",
    "    val_accuracy_obj(Y, pred)\n",
    "\n",
    "for i in range(EPOCHS):\n",
    "    \n",
    "    loss_obj.reset_state()\n",
    "    accuracy_obj.reset_state()\n",
    "    val_loss_obj.reset_state()\n",
    "    val_accuracy_obj.reset_state()\n",
    "\n",
    "    for X, Y in tqdm(train_dataset):\n",
    "        train_step(X, Y)\n",
    "    \n",
    "    for X, Y in tqdm(test_dataset):\n",
    "        test_step(X, Y)\n",
    "\n",
    "    print(f\"epoch : {i}, loss : {float(loss_obj.result())}, accuracy : {float(accuracy_obj.result())}\")\n",
    "    print(f\"val_loss : {float(val_loss_obj.result())}, val_accuracy : {float(val_accuracy_obj.result())}\")"
   ]
  },
  {
   "cell_type": "code",
   "execution_count": 4,
   "metadata": {},
   "outputs": [
    {
     "name": "stderr",
     "output_type": "stream",
     "text": [
      "  0%|          | 0/98 [00:00<?, ?it/s]"
     ]
    },
    {
     "name": "stderr",
     "output_type": "stream",
     "text": [
      "100%|██████████| 98/98 [00:01<00:00, 79.54it/s]\n",
      "100%|██████████| 20/20 [00:00<00:00, 92.17it/s]\n"
     ]
    },
    {
     "name": "stdout",
     "output_type": "stream",
     "text": [
      "epoch : 0, loss : 2.239865779876709, accuracy : 0.18702000379562378\n",
      "val_loss : 2.1814911365509033, val_accuracy : 0.21870000660419464\n"
     ]
    },
    {
     "name": "stderr",
     "output_type": "stream",
     "text": [
      "100%|██████████| 98/98 [00:01<00:00, 80.66it/s]\n",
      "100%|██████████| 20/20 [00:00<00:00, 176.99it/s]\n"
     ]
    },
    {
     "name": "stdout",
     "output_type": "stream",
     "text": [
      "epoch : 1, loss : 2.1212944984436035, accuracy : 0.2475000023841858\n",
      "val_loss : 2.0659573078155518, val_accuracy : 0.27390000224113464\n"
     ]
    },
    {
     "name": "stderr",
     "output_type": "stream",
     "text": [
      "100%|██████████| 98/98 [00:01<00:00, 79.06it/s]\n",
      "100%|██████████| 20/20 [00:00<00:00, 178.57it/s]\n"
     ]
    },
    {
     "name": "stdout",
     "output_type": "stream",
     "text": [
      "epoch : 2, loss : 2.0153353214263916, accuracy : 0.2896000146865845\n",
      "val_loss : 1.9781454801559448, val_accuracy : 0.30709999799728394\n"
     ]
    },
    {
     "name": "stderr",
     "output_type": "stream",
     "text": [
      "100%|██████████| 98/98 [00:01<00:00, 82.75it/s]\n",
      "100%|██████████| 20/20 [00:00<00:00, 176.99it/s]\n"
     ]
    },
    {
     "name": "stdout",
     "output_type": "stream",
     "text": [
      "epoch : 3, loss : 1.9457001686096191, accuracy : 0.3185200095176697\n",
      "val_loss : 1.9217309951782227, val_accuracy : 0.33000001311302185\n"
     ]
    },
    {
     "name": "stderr",
     "output_type": "stream",
     "text": [
      "100%|██████████| 98/98 [00:01<00:00, 81.41it/s]\n",
      "100%|██████████| 20/20 [00:00<00:00, 176.99it/s]\n"
     ]
    },
    {
     "name": "stdout",
     "output_type": "stream",
     "text": [
      "epoch : 4, loss : 1.9029819965362549, accuracy : 0.33511999249458313\n",
      "val_loss : 1.8844300508499146, val_accuracy : 0.3465999960899353\n"
     ]
    },
    {
     "name": "stderr",
     "output_type": "stream",
     "text": [
      "100%|██████████| 98/98 [00:01<00:00, 80.99it/s]\n",
      "100%|██████████| 20/20 [00:00<00:00, 176.99it/s]\n"
     ]
    },
    {
     "name": "stdout",
     "output_type": "stream",
     "text": [
      "epoch : 5, loss : 1.8737109899520874, accuracy : 0.3466399908065796\n",
      "val_loss : 1.8577516078948975, val_accuracy : 0.35249999165534973\n"
     ]
    },
    {
     "name": "stderr",
     "output_type": "stream",
     "text": [
      "100%|██████████| 98/98 [00:01<00:00, 75.64it/s]\n",
      "100%|██████████| 20/20 [00:00<00:00, 176.99it/s]\n"
     ]
    },
    {
     "name": "stdout",
     "output_type": "stream",
     "text": [
      "epoch : 6, loss : 1.851709008216858, accuracy : 0.3542799949645996\n",
      "val_loss : 1.8363726139068604, val_accuracy : 0.36090001463890076\n"
     ]
    },
    {
     "name": "stderr",
     "output_type": "stream",
     "text": [
      "100%|██████████| 98/98 [00:01<00:00, 80.58it/s]\n",
      "100%|██████████| 20/20 [00:00<00:00, 173.15it/s]\n"
     ]
    },
    {
     "name": "stdout",
     "output_type": "stream",
     "text": [
      "epoch : 7, loss : 1.8336005210876465, accuracy : 0.3599399924278259\n",
      "val_loss : 1.819542407989502, val_accuracy : 0.3666999936103821\n"
     ]
    },
    {
     "name": "stderr",
     "output_type": "stream",
     "text": [
      "100%|██████████| 98/98 [00:01<00:00, 80.22it/s]\n",
      "100%|██████████| 20/20 [00:00<00:00, 178.57it/s]\n"
     ]
    },
    {
     "name": "stdout",
     "output_type": "stream",
     "text": [
      "epoch : 8, loss : 1.8176518678665161, accuracy : 0.36601999402046204\n",
      "val_loss : 1.803631067276001, val_accuracy : 0.37389999628067017\n"
     ]
    },
    {
     "name": "stderr",
     "output_type": "stream",
     "text": [
      "100%|██████████| 98/98 [00:01<00:00, 77.35it/s]\n",
      "100%|██████████| 20/20 [00:00<00:00, 150.38it/s]"
     ]
    },
    {
     "name": "stdout",
     "output_type": "stream",
     "text": [
      "epoch : 9, loss : 1.803520679473877, accuracy : 0.3716199994087219\n",
      "val_loss : 1.790061116218567, val_accuracy : 0.37779998779296875\n"
     ]
    },
    {
     "name": "stderr",
     "output_type": "stream",
     "text": [
      "\n"
     ]
    }
   ],
   "source": [
    "optimizer = SGD(learning_rate = 0.01)\n",
    "\n",
    "model.load_weights(\"model.keras\")\n",
    "\n",
    "loss_obj = metrics.Mean()\n",
    "accuracy_obj = metrics.SparseCategoricalAccuracy()\n",
    "val_loss_obj = metrics.SparseCategoricalCrossentropy()\n",
    "val_accuracy_obj = metrics.SparseCategoricalAccuracy()\n",
    "\n",
    "# @tf.function\n",
    "def train_step(X, Y):\n",
    "    with tf.GradientTape() as tape:\n",
    "        pred = model(X)\n",
    "        loss = losses.SparseCategoricalCrossentropy()(Y, pred)\n",
    "    gradients = tape.gradient(loss, model.trainable_variables)\n",
    "    optimizer.apply_gradients(zip(gradients, model.trainable_variables))\n",
    "\n",
    "    loss_obj(loss)\n",
    "    accuracy_obj(Y, pred)\n",
    "\n",
    "@tf.function\n",
    "def test_step(X, Y):\n",
    "    pred = model(X)\n",
    "    \n",
    "    val_loss_obj(Y, pred)\n",
    "    val_accuracy_obj(Y, pred)\n",
    "\n",
    "for i in range(EPOCHS):\n",
    "    \n",
    "    loss_obj.reset_state()\n",
    "    accuracy_obj.reset_state()\n",
    "    val_loss_obj.reset_state()\n",
    "    val_accuracy_obj.reset_state()\n",
    "\n",
    "    for X, Y in tqdm(train_dataset):\n",
    "        train_step(X, Y)\n",
    "    \n",
    "    for X, Y in tqdm(test_dataset):\n",
    "        test_step(X, Y)\n",
    "\n",
    "    print(f\"epoch : {i}, loss : {float(loss_obj.result())}, accuracy : {float(accuracy_obj.result())}\")\n",
    "    print(f\"val_loss : {float(val_loss_obj.result())}, val_accuracy : {float(val_accuracy_obj.result())}\")"
   ]
  }
 ],
 "metadata": {
  "kernelspec": {
   "display_name": "Python 3",
   "language": "python",
   "name": "python3"
  },
  "language_info": {
   "codemirror_mode": {
    "name": "ipython",
    "version": 3
   },
   "file_extension": ".py",
   "mimetype": "text/x-python",
   "name": "python",
   "nbconvert_exporter": "python",
   "pygments_lexer": "ipython3",
   "version": "3.9.18"
  }
 },
 "nbformat": 4,
 "nbformat_minor": 2
}
