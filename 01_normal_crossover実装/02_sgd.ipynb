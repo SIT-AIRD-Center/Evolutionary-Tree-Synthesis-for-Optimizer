{
 "cells": [
  {
   "cell_type": "code",
   "execution_count": 2,
   "metadata": {},
   "outputs": [],
   "source": [
    "from local.node import Node\n",
    "from local.constnode import ConstNode\n",
    "from local.varnode import VarNode\n",
    "from local.funcnode import FuncNode\n",
    "from local.func import *\n",
    "from local.treeoptimizer import TreeOptimizer\n",
    "from local.crossover import *\n",
    "from local.Optimizer import *\n",
    "\n",
    "import os\n",
    "import copy\n",
    "import random\n",
    "import pickle\n",
    "import graphviz\n",
    "import datetime\n",
    "from PIL import Image\n",
    "from tqdm import tqdm\n",
    "import tensorflow as tf\n",
    "from tensorflow.keras import datasets, layers, models, losses, metrics, optimizers"
   ]
  },
  {
   "cell_type": "code",
   "execution_count": 30,
   "metadata": {},
   "outputs": [],
   "source": [
    "\n",
    "BATCH_SIZE = 512\n",
    "EPOCHS = 10\n",
    "def load_data():\n",
    "    (x_train, y_train), (x_test, y_test) = datasets.cifar10.load_data()\n",
    "    x_train, x_test = x_train[..., tf.newaxis] / 255.0, x_test[..., tf.newaxis] / 255.0\n",
    "\n",
    "    train_dataset = tf.data.Dataset.from_tensor_slices((x_train, y_train)).batch(BATCH_SIZE)\n",
    "    test_dataset = tf.data.Dataset.from_tensor_slices((x_test, y_test)).batch(BATCH_SIZE)\n",
    "\n",
    "    return train_dataset, test_dataset\n",
    "\n",
    "def build_model():\n",
    "    input = layers.Input(shape = (32, 32, 3))\n",
    "    x = layers.Conv2D(32, 3, 2)(input)\n",
    "    x = layers.LeakyReLU()(x)\n",
    "    x = layers.Flatten()(x)\n",
    "    x = layers.Dense(units = 32, activation = \"relu\")(x)\n",
    "    output = layers.Dense(units = 10, activation = \"softmax\")(x)\n",
    "\n",
    "    return models.Model(input, output)\n",
    "\n",
    "train_dataset, test_dataset = load_data()\n",
    "\n",
    "model = build_model()\n",
    "model.save_weights(\"model.keras\")"
   ]
  },
  {
   "cell_type": "code",
   "execution_count": 31,
   "metadata": {},
   "outputs": [
    {
     "name": "stderr",
     "output_type": "stream",
     "text": [
      "100%|██████████| 98/98 [00:01<00:00, 61.18it/s]\n",
      "100%|██████████| 20/20 [00:00<00:00, 53.69it/s]\n"
     ]
    },
    {
     "name": "stdout",
     "output_type": "stream",
     "text": [
      "epoch : 0, loss : 2.2189130783081055, accuracy : 0.17844000458717346\n",
      "val_loss : 2.1440818309783936, val_accuracy : 0.2289000004529953\n"
     ]
    },
    {
     "name": "stderr",
     "output_type": "stream",
     "text": [
      "100%|██████████| 98/98 [00:00<00:00, 111.56it/s]\n",
      "100%|██████████| 20/20 [00:00<00:00, 119.00it/s]\n"
     ]
    },
    {
     "name": "stdout",
     "output_type": "stream",
     "text": [
      "epoch : 1, loss : 2.0837299823760986, accuracy : 0.26287999749183655\n",
      "val_loss : 2.032944917678833, val_accuracy : 0.2831000089645386\n"
     ]
    },
    {
     "name": "stderr",
     "output_type": "stream",
     "text": [
      "100%|██████████| 98/98 [00:00<00:00, 105.43it/s]\n",
      "100%|██████████| 20/20 [00:00<00:00, 113.30it/s]\n"
     ]
    },
    {
     "name": "stdout",
     "output_type": "stream",
     "text": [
      "epoch : 2, loss : 1.9926745891571045, accuracy : 0.3018600046634674\n",
      "val_loss : 1.961544156074524, val_accuracy : 0.30799999833106995\n"
     ]
    },
    {
     "name": "stderr",
     "output_type": "stream",
     "text": [
      "100%|██████████| 98/98 [00:00<00:00, 108.77it/s]\n",
      "100%|██████████| 20/20 [00:00<00:00, 120.06it/s]\n"
     ]
    },
    {
     "name": "stdout",
     "output_type": "stream",
     "text": [
      "epoch : 3, loss : 1.9373598098754883, accuracy : 0.3236599862575531\n",
      "val_loss : 1.9182943105697632, val_accuracy : 0.32429999113082886\n"
     ]
    },
    {
     "name": "stderr",
     "output_type": "stream",
     "text": [
      "100%|██████████| 98/98 [00:00<00:00, 112.59it/s]\n",
      "100%|██████████| 20/20 [00:00<00:00, 119.21it/s]\n"
     ]
    },
    {
     "name": "stdout",
     "output_type": "stream",
     "text": [
      "epoch : 4, loss : 1.9016603231430054, accuracy : 0.3359000086784363\n",
      "val_loss : 1.8889269828796387, val_accuracy : 0.33640000224113464\n"
     ]
    },
    {
     "name": "stderr",
     "output_type": "stream",
     "text": [
      "100%|██████████| 98/98 [00:00<00:00, 113.32it/s]\n",
      "100%|██████████| 20/20 [00:00<00:00, 104.14it/s]\n"
     ]
    },
    {
     "name": "stdout",
     "output_type": "stream",
     "text": [
      "epoch : 5, loss : 1.874873161315918, accuracy : 0.34624001383781433\n",
      "val_loss : 1.8663030862808228, val_accuracy : 0.3463999927043915\n"
     ]
    },
    {
     "name": "stderr",
     "output_type": "stream",
     "text": [
      "100%|██████████| 98/98 [00:00<00:00, 114.52it/s]\n",
      "100%|██████████| 20/20 [00:00<00:00, 120.34it/s]\n"
     ]
    },
    {
     "name": "stdout",
     "output_type": "stream",
     "text": [
      "epoch : 6, loss : 1.8524318933486938, accuracy : 0.35572001338005066\n",
      "val_loss : 1.8462284803390503, val_accuracy : 0.352400004863739\n"
     ]
    },
    {
     "name": "stderr",
     "output_type": "stream",
     "text": [
      "100%|██████████| 98/98 [00:00<00:00, 113.10it/s]\n",
      "100%|██████████| 20/20 [00:00<00:00, 120.61it/s]\n"
     ]
    },
    {
     "name": "stdout",
     "output_type": "stream",
     "text": [
      "epoch : 7, loss : 1.8327218294143677, accuracy : 0.36395999789237976\n",
      "val_loss : 1.827788233757019, val_accuracy : 0.36059999465942383\n"
     ]
    },
    {
     "name": "stderr",
     "output_type": "stream",
     "text": [
      "100%|██████████| 98/98 [00:00<00:00, 110.40it/s]\n",
      "100%|██████████| 20/20 [00:00<00:00, 120.27it/s]\n"
     ]
    },
    {
     "name": "stdout",
     "output_type": "stream",
     "text": [
      "epoch : 8, loss : 1.8154494762420654, accuracy : 0.3697200119495392\n",
      "val_loss : 1.811552882194519, val_accuracy : 0.3659999966621399\n"
     ]
    },
    {
     "name": "stderr",
     "output_type": "stream",
     "text": [
      "100%|██████████| 98/98 [00:00<00:00, 109.90it/s]\n",
      "100%|██████████| 20/20 [00:00<00:00, 114.25it/s]"
     ]
    },
    {
     "name": "stdout",
     "output_type": "stream",
     "text": [
      "epoch : 9, loss : 1.7997026443481445, accuracy : 0.37553998827934265\n",
      "val_loss : 1.7954643964767456, val_accuracy : 0.37220001220703125\n"
     ]
    },
    {
     "name": "stderr",
     "output_type": "stream",
     "text": [
      "\n"
     ]
    }
   ],
   "source": [
    "# tensorflow\n",
    "optimizer = optimizers.SGD(learning_rate = 0.001, momentum=0.9)\n",
    "\n",
    "model.load_weights(\"model.keras\")\n",
    "\n",
    "loss_obj = metrics.Mean()\n",
    "accuracy_obj = metrics.SparseCategoricalAccuracy()\n",
    "val_loss_obj = metrics.SparseCategoricalCrossentropy()\n",
    "val_accuracy_obj = metrics.SparseCategoricalAccuracy()\n",
    "\n",
    "@tf.function\n",
    "def train_step(X, Y):\n",
    "    with tf.GradientTape() as tape:\n",
    "        pred = model(X)\n",
    "        loss = losses.SparseCategoricalCrossentropy()(Y, pred)\n",
    "    gradients = tape.gradient(loss, model.trainable_variables)\n",
    "    optimizer.apply_gradients(zip(gradients, model.trainable_variables))\n",
    "\n",
    "    loss_obj(loss)\n",
    "    accuracy_obj(Y, pred)\n",
    "\n",
    "@tf.function\n",
    "def test_step(X, Y):\n",
    "    pred = model(X)\n",
    "    \n",
    "    val_loss_obj(Y, pred)\n",
    "    val_accuracy_obj(Y, pred)\n",
    "\n",
    "for i in range(EPOCHS):\n",
    "    \n",
    "    loss_obj.reset_state()\n",
    "    accuracy_obj.reset_state()\n",
    "    val_loss_obj.reset_state()\n",
    "    val_accuracy_obj.reset_state()\n",
    "\n",
    "    for X, Y in tqdm(train_dataset):\n",
    "        train_step(X, Y)\n",
    "    \n",
    "    for X, Y in tqdm(test_dataset):\n",
    "        test_step(X, Y)\n",
    "\n",
    "    print(f\"epoch : {i}, loss : {float(loss_obj.result())}, accuracy : {float(accuracy_obj.result())}\")\n",
    "    print(f\"val_loss : {float(val_loss_obj.result())}, val_accuracy : {float(val_accuracy_obj.result())}\")"
   ]
  },
  {
   "cell_type": "code",
   "execution_count": 12,
   "metadata": {},
   "outputs": [
    {
     "name": "stderr",
     "output_type": "stream",
     "text": [
      "100%|██████████| 98/98 [00:04<00:00, 24.38it/s]\n",
      "100%|██████████| 20/20 [00:00<00:00, 56.15it/s]\n"
     ]
    },
    {
     "name": "stdout",
     "output_type": "stream",
     "text": [
      "epoch : 0, loss : 4.034092426300049, accuracy : 0.10840000212192535\n",
      "val_loss : 2.302746295928955, val_accuracy : 0.09989999979734421\n"
     ]
    },
    {
     "name": "stderr",
     "output_type": "stream",
     "text": [
      "100%|██████████| 98/98 [00:01<00:00, 94.70it/s]\n",
      "100%|██████████| 20/20 [00:00<00:00, 119.27it/s]\n"
     ]
    },
    {
     "name": "stdout",
     "output_type": "stream",
     "text": [
      "epoch : 1, loss : 2.4209821224212646, accuracy : 0.09694000333547592\n",
      "val_loss : 2.3029158115386963, val_accuracy : 0.10000000149011612\n"
     ]
    },
    {
     "name": "stderr",
     "output_type": "stream",
     "text": [
      "100%|██████████| 98/98 [00:01<00:00, 94.86it/s]\n",
      "100%|██████████| 20/20 [00:00<00:00, 120.63it/s]\n"
     ]
    },
    {
     "name": "stdout",
     "output_type": "stream",
     "text": [
      "epoch : 2, loss : 2.303063154220581, accuracy : 0.09709999710321426\n",
      "val_loss : 2.302802085876465, val_accuracy : 0.10000000149011612\n"
     ]
    },
    {
     "name": "stderr",
     "output_type": "stream",
     "text": [
      "100%|██████████| 98/98 [00:01<00:00, 97.01it/s]\n",
      "100%|██████████| 20/20 [00:00<00:00, 116.83it/s]\n"
     ]
    },
    {
     "name": "stdout",
     "output_type": "stream",
     "text": [
      "epoch : 3, loss : 2.303037643432617, accuracy : 0.09718000143766403\n",
      "val_loss : 2.3028018474578857, val_accuracy : 0.10000000149011612\n"
     ]
    },
    {
     "name": "stderr",
     "output_type": "stream",
     "text": [
      "100%|██████████| 98/98 [00:01<00:00, 93.59it/s]\n",
      "100%|██████████| 20/20 [00:00<00:00, 110.18it/s]\n"
     ]
    },
    {
     "name": "stdout",
     "output_type": "stream",
     "text": [
      "epoch : 4, loss : 2.303037643432617, accuracy : 0.09718000143766403\n",
      "val_loss : 2.3028018474578857, val_accuracy : 0.10000000149011612\n"
     ]
    },
    {
     "name": "stderr",
     "output_type": "stream",
     "text": [
      "100%|██████████| 98/98 [00:01<00:00, 95.45it/s]\n",
      "100%|██████████| 20/20 [00:00<00:00, 119.86it/s]\n"
     ]
    },
    {
     "name": "stdout",
     "output_type": "stream",
     "text": [
      "epoch : 5, loss : 2.303037643432617, accuracy : 0.09718000143766403\n",
      "val_loss : 2.3028018474578857, val_accuracy : 0.10000000149011612\n"
     ]
    },
    {
     "name": "stderr",
     "output_type": "stream",
     "text": [
      "100%|██████████| 98/98 [00:01<00:00, 95.55it/s]\n",
      "100%|██████████| 20/20 [00:00<00:00, 118.64it/s]\n"
     ]
    },
    {
     "name": "stdout",
     "output_type": "stream",
     "text": [
      "epoch : 6, loss : 2.303037643432617, accuracy : 0.09718000143766403\n",
      "val_loss : 2.3028018474578857, val_accuracy : 0.10000000149011612\n"
     ]
    },
    {
     "name": "stderr",
     "output_type": "stream",
     "text": [
      "100%|██████████| 98/98 [00:01<00:00, 93.86it/s]\n",
      "100%|██████████| 20/20 [00:00<00:00, 118.60it/s]\n"
     ]
    },
    {
     "name": "stdout",
     "output_type": "stream",
     "text": [
      "epoch : 7, loss : 2.303037643432617, accuracy : 0.09718000143766403\n",
      "val_loss : 2.3028018474578857, val_accuracy : 0.10000000149011612\n"
     ]
    },
    {
     "name": "stderr",
     "output_type": "stream",
     "text": [
      "100%|██████████| 98/98 [00:01<00:00, 95.74it/s]\n",
      "100%|██████████| 20/20 [00:00<00:00, 119.84it/s]\n"
     ]
    },
    {
     "name": "stdout",
     "output_type": "stream",
     "text": [
      "epoch : 8, loss : 2.303037643432617, accuracy : 0.09718000143766403\n",
      "val_loss : 2.3028018474578857, val_accuracy : 0.10000000149011612\n"
     ]
    },
    {
     "name": "stderr",
     "output_type": "stream",
     "text": [
      "100%|██████████| 98/98 [00:01<00:00, 95.36it/s]\n",
      "100%|██████████| 20/20 [00:00<00:00, 117.79it/s]\n"
     ]
    },
    {
     "name": "stdout",
     "output_type": "stream",
     "text": [
      "epoch : 9, loss : 2.303037643432617, accuracy : 0.09718000143766403\n",
      "val_loss : 2.3028018474578857, val_accuracy : 0.10000000149011612\n"
     ]
    }
   ],
   "source": [
    "optimizer = RMSProp(learning_rate = 0.01)\n",
    "\n",
    "model.load_weights(\"model.keras\")\n",
    "\n",
    "loss_obj = metrics.Mean()\n",
    "accuracy_obj = metrics.SparseCategoricalAccuracy()\n",
    "val_loss_obj = metrics.SparseCategoricalCrossentropy()\n",
    "val_accuracy_obj = metrics.SparseCategoricalAccuracy()\n",
    "\n",
    "@tf.function\n",
    "def train_step(X, Y):\n",
    "    with tf.GradientTape() as tape:\n",
    "        pred = model(X)\n",
    "        loss = losses.SparseCategoricalCrossentropy()(Y, pred)\n",
    "    gradients = tape.gradient(loss, model.trainable_variables)\n",
    "    optimizer.apply_gradients(zip(gradients, model.trainable_variables))\n",
    "\n",
    "    loss_obj(loss)\n",
    "    accuracy_obj(Y, pred)\n",
    "\n",
    "@tf.function\n",
    "def test_step(X, Y):\n",
    "    pred = model(X)\n",
    "    \n",
    "    val_loss_obj(Y, pred)\n",
    "    val_accuracy_obj(Y, pred)\n",
    "\n",
    "for i in range(EPOCHS):\n",
    "    \n",
    "    loss_obj.reset_state()\n",
    "    accuracy_obj.reset_state()\n",
    "    val_loss_obj.reset_state()\n",
    "    val_accuracy_obj.reset_state()\n",
    "\n",
    "    for X, Y in tqdm(train_dataset):\n",
    "        train_step(X, Y)\n",
    "    \n",
    "    for X, Y in tqdm(test_dataset):\n",
    "        test_step(X, Y)\n",
    "\n",
    "    print(f\"epoch : {i}, loss : {float(loss_obj.result())}, accuracy : {float(accuracy_obj.result())}\")\n",
    "    print(f\"val_loss : {float(val_loss_obj.result())}, val_accuracy : {float(val_accuracy_obj.result())}\")"
   ]
  }
 ],
 "metadata": {
  "kernelspec": {
   "display_name": "Python 3",
   "language": "python",
   "name": "python3"
  },
  "language_info": {
   "codemirror_mode": {
    "name": "ipython",
    "version": 3
   },
   "file_extension": ".py",
   "mimetype": "text/x-python",
   "name": "python",
   "nbconvert_exporter": "python",
   "pygments_lexer": "ipython3",
   "version": "3.9.16"
  }
 },
 "nbformat": 4,
 "nbformat_minor": 2
}
