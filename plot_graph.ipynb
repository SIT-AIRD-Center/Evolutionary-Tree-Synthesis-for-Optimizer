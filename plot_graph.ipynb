{
 "cells": [
  {
   "cell_type": "code",
   "execution_count": 2,
   "metadata": {},
   "outputs": [],
   "source": [
    "import matplotlib.pyplot as plt\n",
    "import glob\n",
    "import json"
   ]
  },
  {
   "cell_type": "markdown",
   "metadata": {},
   "source": [
    "## Lionの評価値推移をグラフにプロット"
   ]
  },
  {
   "cell_type": "code",
   "execution_count": null,
   "metadata": {},
   "outputs": [],
   "source": [
    "year = \"2023\"\n",
    "date = \"12_30\"\n",
    "time = \"12_00\"\n",
    "folder_path = f\"./00_Lion実装/{year}/{date}/{time}/best_optim/\"\n",
    "\n",
    "result_list = glob.glob(folder_path +\"/*.pickle\")\n",
    "x,y = list(), list()\n",
    "\n",
    "for path in result_list:\n",
    "    a = path.split(\"\\\\\")[-1].split(\".pickle\")[0].split(\"_\")\n",
    "    x.append(int(a[1]))\n",
    "    y.append(float(a[3]))\n",
    "\n",
    "x = sorted(x)\n",
    "y = sorted(y)\n",
    "\n",
    "yy = list()\n",
    "score = 0.0\n",
    "for i in range(500):\n",
    "    if i in x:\n",
    "        score = y[x.index(i)]\n",
    "    yy.append(score)\n",
    "\n",
    "json_file = open(f\"{folder_path}score_{12_31}.json\", \"w\")\n",
    "json.dump(yy, json_file, indent=0)\n",
    "json_file.close()"
   ]
  },
  {
   "cell_type": "code",
   "execution_count": null,
   "metadata": {},
   "outputs": [],
   "source": [
    "fig = plt.figure()\n",
    "plt.plot(range(len(yy)), yy, label = \"Lion\")\n",
    "plt.xlim(0, 500)\n",
    "plt.ylim(0, 1)\n",
    "plt.legend()\n",
    "plt.savefig(f\"./save_figure/Lion_{date}_{time}.png\")\n",
    "plt.show()"
   ]
  },
  {
   "cell_type": "markdown",
   "metadata": {},
   "source": [
    "## Normal crossoverの評価値推移をグラフにプロット"
   ]
  },
  {
   "cell_type": "code",
   "execution_count": 3,
   "metadata": {},
   "outputs": [],
   "source": [
    "year = \"2024\"\n",
    "date = \"1_15\"\n",
    "time = \"9_24\"\n",
    "folder_path = f\"./01_normal_crossover実装/{year}/{date}/{time}/best_optim/\"\n",
    "\n",
    "result_list = glob.glob(folder_path +\"/*.pickle\")\n",
    "x,y = list(), list()\n",
    "\n",
    "for path in result_list:\n",
    "    a = path.split(\"\\\\\")[-1].split(\".pickle\")[0].split(\"_\")\n",
    "    x.append(int(a[1]))\n",
    "    y.append(float(a[3]))\n",
    "\n",
    "x = sorted(x)\n",
    "y = sorted(y)\n",
    "\n",
    "yy = list()\n",
    "score = 0.0\n",
    "for i in range(500):\n",
    "    if i in x:\n",
    "        score = y[x.index(i)]\n",
    "    yy.append(score)\n",
    "\n",
    "json_file = open(f\"{folder_path}score_{date}.json\", \"w\")\n",
    "json.dump(yy, json_file, indent=0)\n",
    "json_file.close()"
   ]
  },
  {
   "cell_type": "code",
   "execution_count": null,
   "metadata": {},
   "outputs": [],
   "source": [
    "fig = plt.figure()\n",
    "plt.plot(range(len(yy)), yy, label = \"normal_crossover\")\n",
    "plt.xlim(0, 500)\n",
    "plt.ylim(0, 1)\n",
    "plt.legend()\n",
    "plt.savefig(f\"./save_figure/normal_{date}_{time}.png\")\n",
    "plt.show()"
   ]
  },
  {
   "cell_type": "markdown",
   "metadata": {},
   "source": [
    "## Semantic crossoverの評価値推移をグラフにプロット"
   ]
  },
  {
   "cell_type": "code",
   "execution_count": 2,
   "metadata": {},
   "outputs": [],
   "source": [
    "year = \"2024\"\n",
    "date = \"1_11\"\n",
    "time = \"22_37\"\n",
    "folder_path = f\"./02_semantic_crossover実装/{year}/{date}/{time}/best_optim/\"\n",
    "\n",
    "result_list = glob.glob(folder_path +\"/*.pickle\")\n",
    "x,y = list(), list()\n",
    "\n",
    "for path in result_list:\n",
    "    a = path.split(\"\\\\\")[-1].split(\".pickle\")[0].split(\"_\")\n",
    "    x.append(int(a[1]))\n",
    "    y.append(float(a[3]))\n",
    "\n",
    "x = sorted(x)\n",
    "y = sorted(y)\n",
    "\n",
    "yy = list()\n",
    "score = 0.0\n",
    "for i in range(500):\n",
    "    if i in x:\n",
    "        score = y[x.index(i)]\n",
    "    yy.append(score)\n",
    "\n",
    "json_file = open(f\"{folder_path}score_{date}.json\", \"w\")\n",
    "json.dump(yy, json_file, indent=0)\n",
    "json_file.close()"
   ]
  },
  {
   "cell_type": "code",
   "execution_count": null,
   "metadata": {},
   "outputs": [],
   "source": [
    "fig = plt.figure()\n",
    "plt.plot(range(len(yy)), yy, label = \"semantic_crossover\")\n",
    "plt.xlim(0, 500)\n",
    "plt.ylim(0, 1)\n",
    "plt.legend()\n",
    "plt.savefig(f\"./save_figure/semantic_{date}_{time}.png\")\n",
    "plt.show()"
   ]
  },
  {
   "cell_type": "markdown",
   "metadata": {},
   "source": [
    "## まとめて表示するやつ"
   ]
  },
  {
   "cell_type": "code",
   "execution_count": null,
   "metadata": {},
   "outputs": [],
   "source": [
    "# 00_Lion実装から実験結果を読み込むための変数\n",
    "Lion_year = \"2023\"\n",
    "Lion_date = \"12_30\"\n",
    "Lion_time = \"12_00\"\n",
    "\n",
    "# 01_normal_crossover実装から実験結果を読み込むための変数\n",
    "normal_year = \"2023\"\n",
    "normal_date = \"12_27\"\n",
    "normal_time = \"16_9\"\n",
    "\n",
    "# 02_semantic_crossover実装から実験結果を読み込むための変数\n",
    "semantic_year = \"2024\"\n",
    "semantic_date = \"1_8\"\n",
    "semantic_time = \"0_35\"\n",
    "\n",
    "# 各参照先のフォルダーのパスを設定\n",
    "Lion_path = f\"./00_Lion実装/{Lion_year}/{Lion_date}/{Lion_time}\"\n",
    "normal_path = f\"./01_normal_crossover実装/{normal_year}/{normal_date}/{normal_time}\"\n",
    "semantic_path = f\"./02_semantic_crossover実装/{semantic_year}/{semantic_date}/{semantic_time}\"\n",
    "\n",
    "need_key = [0, 1, 2]\n",
    "path_dict ={0 : Lion_path, 1 : normal_path, 2 : semantic_path}\n",
    "step_dict ={0 : 0, 1 : 0, 2 : 0}\n",
    "labels = {0 : \"Lion\", 1 : \"Normal_crossover\", 2 : \"Semantic_crossover\"}\n",
    "\n",
    "content_dict = {key : list() for key in need_key}\n",
    "flag = 0\n",
    "for key in need_key:\n",
    "    read_path = path_dict[key]\n",
    "    result_list = glob.glob(read_path +\"/best_optim/*.json\")\n",
    "    flag = 0\n",
    "    if len(result_list) == 0:\n",
    "        result_list = glob.glob(read_path +\"/best_optim/*.pickle\")\n",
    "        flag = 1\n",
    "    print(key, len(result_list))\n",
    "    x,y = list(), list()\n",
    "    result_dict = dict()\n",
    "    if flag == 0:\n",
    "        for path in result_list:\n",
    "            a = path.split(\"\\\\\")[-1].split(\".json\")[0].split(\"_\")\n",
    "            key1 = int(a[1])\n",
    "            value = float(a[3])\n",
    "            if not key1 in result_dict.keys() or (key1 in result_dict.keys() and result_dict[key1] < value):\n",
    "                result_dict[key1] = value\n",
    "            x.append(int(a[1]))\n",
    "            y.append(float(a[3]))\n",
    "    \n",
    "    if flag == 1:\n",
    "        for path in result_list:\n",
    "            key1 = int(a[1])\n",
    "            value = float(a[3])\n",
    "            if not key1 in result_dict.keys() or (key1 in result_dict.keys() and result_dict[key1] < value):\n",
    "                result_dict[key1] = value\n",
    "            a = path.split(\"\\\\\")[-1].split(\".pickle\")[0].split(\"_\")\n",
    "            x.append(int(a[1]))\n",
    "            y.append(float(a[3]))\n",
    "\n",
    "    x = sorted(x)\n",
    "    y = sorted(y)\n",
    "    yy = list()\n",
    "    score = 0.0\n",
    "    step_dict[key] = len(glob.glob(f\"{path_dict[key]}/generation*\"))\n",
    "    step_dict[2] = 500\n",
    "    for i in range(step_dict[key]):\n",
    "        if i in result_dict.keys():\n",
    "            score = result_dict[i]\n",
    "        yy.append(score)\n",
    "        \n",
    "    content_dict[key] = yy\n",
    "    labels[key] += f\": {score:.5f}\""
   ]
  },
  {
   "cell_type": "code",
   "execution_count": null,
   "metadata": {},
   "outputs": [],
   "source": [
    "result_dict"
   ]
  },
  {
   "cell_type": "code",
   "execution_count": null,
   "metadata": {},
   "outputs": [],
   "source": [
    "try:\n",
    "    index = int(sorted(glob.glob(\"./save_figure/all_plot*.png\"))[-1].split(\"_\")[-1].split(\".\")[0]) + 1\n",
    "except:\n",
    "    index = 0\n",
    "    \n",
    "fig = plt.figure()\n",
    "x_lim = 0\n",
    "for key, value in content_dict.items():\n",
    "    if x_lim < len(value):\n",
    "        x_lim = len(value)\n",
    "    plt.plot(range(len(value)), value, label = labels[key], )\n",
    "\n",
    "plt.xlim(0, x_lim)\n",
    "plt.ylim(0, 1)\n",
    "plt.xlabel(\"Generation\")\n",
    "plt.ylabel(\"fitness_score\")\n",
    "plt.legend()\n",
    "plt.savefig(f\"./save_figure/all_plot_{index}\")"
   ]
  },
  {
   "cell_type": "markdown",
   "metadata": {},
   "source": [
    "## save\n"
   ]
  },
  {
   "cell_type": "code",
   "execution_count": null,
   "metadata": {},
   "outputs": [],
   "source": [
    "import json\n",
    "content_dict_2 = dict()\n",
    "\n",
    "lion_path = \"./00_Lion実装/save_scores_json/scores.json\"\n",
    "file = open(lion_path, \"r\")\n",
    "content =json.load(file)\n",
    "content_dict_2[0] = content\n",
    "file.close()\n",
    "labels[0] = f\"Lion: {max(content):.6}\"\n",
    "\n",
    "content_dict_2[1] = content_dict[2]\n",
    "labels[1] = f\"Normal Crossover: {max(content_dict[2]):.6}\"\n",
    "\n"
   ]
  },
  {
   "cell_type": "code",
   "execution_count": null,
   "metadata": {},
   "outputs": [],
   "source": [
    "try:\n",
    "    index = int(sorted(glob.glob(\"./save_figure/all_plot*.png\"))[-1].split(\"_\")[-1].split(\".\")[0]) + 1\n",
    "except:\n",
    "    index = 0\n",
    "    \n",
    "fig = plt.figure()\n",
    "x_lim = 0\n",
    "for key, value in content_dict_2.items():\n",
    "    if x_lim < len(value):\n",
    "        x_lim = len(value)\n",
    "    plt.plot(range(len(value)), value, label = labels[key], )\n",
    "\n",
    "plt.xlim(0, x_lim)\n",
    "plt.ylim(0, 1)\n",
    "plt.xlabel(\"Generation\")\n",
    "plt.ylabel(\"fitness_score\")\n",
    "plt.legend()\n",
    "plt.savefig(f\"./save_figure/all_plot_{index}\")"
   ]
  }
 ],
 "metadata": {
  "kernelspec": {
   "display_name": "tf210_taro_clone2",
   "language": "python",
   "name": "python3"
  },
  "language_info": {
   "codemirror_mode": {
    "name": "ipython",
    "version": 3
   },
   "file_extension": ".py",
   "mimetype": "text/x-python",
   "name": "python",
   "nbconvert_exporter": "python",
   "pygments_lexer": "ipython3",
   "version": "3.9.16"
  }
 },
 "nbformat": 4,
 "nbformat_minor": 2
}
